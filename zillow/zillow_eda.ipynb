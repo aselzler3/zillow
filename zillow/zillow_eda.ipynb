{
 "cells": [
  {
   "cell_type": "code",
   "execution_count": 1,
   "metadata": {
    "collapsed": true
   },
   "outputs": [],
   "source": [
    "import pandas as pd\n",
    "import numpy as np\n",
    "from sklearn.model_selection import train_test_split\n",
    "from sklearn.ensemble import GradientBoostingRegressor\n",
    "import matplotlib.pyplot as plt\n",
    "from sklearn.linear_model import LinearRegression"
   ]
  },
  {
   "cell_type": "code",
   "execution_count": 2,
   "metadata": {
    "collapsed": true
   },
   "outputs": [],
   "source": [
    "df=pd.read_csv('training_data.csv')\n",
    "df=df.drop('Unnamed: 0', axis=1)\n",
    "df=df.drop('parcelid', axis=1)\n",
    "df=df.drop('propertycountylandusecode', axis=1)\n",
    "df=df.drop('propertyzoningdesc', axis=1)"
   ]
  },
  {
   "cell_type": "code",
   "execution_count": 3,
   "metadata": {},
   "outputs": [
    {
     "name": "stderr",
     "output_type": "stream",
     "text": [
      "/home/aselzler3/anaconda2/lib/python2.7/site-packages/IPython/core/interactiveshell.py:2717: DtypeWarning: Columns (22,32,34,49,55) have mixed types. Specify dtype option on import or set low_memory=False.\n",
      "  interactivity=interactivity, compiler=compiler, result=result)\n"
     ]
    }
   ],
   "source": [
    "df_t=pd.read_csv('properties_2016.csv')\n",
    "df_t=df_t.drop('propertycountylandusecode', axis=1)\n",
    "df_t=df_t.drop('propertyzoningdesc', axis=1)"
   ]
  },
  {
   "cell_type": "code",
   "execution_count": 4,
   "metadata": {
    "collapsed": true
   },
   "outputs": [],
   "source": [
    "for x in df.columns:\n",
    "    if len(df[x].dropna(axis=0))!=len(df[x]):\n",
    "        df[x+'_isnull']=df[x].apply(lambda k: int(k != k))\n",
    "        df_t[x+'_isnull']=df[x].apply(lambda k: int(k != k))"
   ]
  },
  {
   "cell_type": "code",
   "execution_count": 5,
   "metadata": {
    "collapsed": true
   },
   "outputs": [],
   "source": [
    "df=df.drop('taxdelinquencyflag', axis=1)\n",
    "df_t=df_t.drop('taxdelinquencyflag', axis=1)"
   ]
  },
  {
   "cell_type": "code",
   "execution_count": 6,
   "metadata": {
    "collapsed": true
   },
   "outputs": [],
   "source": [
    "df=df.fillna(0)\n",
    "df_t=df_t.fillna(0)"
   ]
  },
  {
   "cell_type": "code",
   "execution_count": 7,
   "metadata": {
    "collapsed": true
   },
   "outputs": [],
   "source": [
    "df['hashottuborspa']=df['hashottuborspa'].apply(int)\n",
    "df['fireplaceflag']=df['fireplaceflag'].apply(int)\n",
    "df_t['hashottuborspa']=df_t['hashottuborspa'].apply(int)\n",
    "df_t['fireplaceflag']=df_t['fireplaceflag'].apply(int)"
   ]
  },
  {
   "cell_type": "code",
   "execution_count": 8,
   "metadata": {
    "collapsed": true
   },
   "outputs": [],
   "source": [
    "def numdays(date):\n",
    "    return 365*(int(date[:4])-2016)+30*(int(date[5:7])-1)+int(date[8:])"
   ]
  },
  {
   "cell_type": "code",
   "execution_count": 9,
   "metadata": {
    "collapsed": true
   },
   "outputs": [],
   "source": [
    "df['transactiondate']=df['transactiondate'].apply(numdays)"
   ]
  },
  {
   "cell_type": "code",
   "execution_count": 10,
   "metadata": {
    "collapsed": true
   },
   "outputs": [],
   "source": [
    "Y=df['logerror']\n",
    "X=df.drop('logerror', axis=1)"
   ]
  },
  {
   "cell_type": "code",
   "execution_count": 11,
   "metadata": {
    "collapsed": true
   },
   "outputs": [],
   "source": [
    "X_train, X_test, y_train, y_test = train_test_split(X, Y, test_size=0.1, random_state=42)"
   ]
  },
  {
   "cell_type": "code",
   "execution_count": 12,
   "metadata": {},
   "outputs": [
    {
     "name": "stdout",
     "output_type": "stream",
     "text": [
      "0.00668553197859\n"
     ]
    }
   ],
   "source": [
    "model=LinearRegression()\n",
    "model.fit(X_train, y_train)\n",
    "print model.score(X_test, y_test)"
   ]
  },
  {
   "cell_type": "code",
   "execution_count": 13,
   "metadata": {
    "collapsed": true
   },
   "outputs": [],
   "source": [
    "# x_axis = np.linspace(1,15,15)\n",
    "# y_axis=[]\n",
    "# for x in x_axis:\n",
    "#     model=GradientBoostingRegressor(learning_rate=0.004, n_estimators=50, \n",
    "#                                     max_depth=11)\n",
    "#     model.fit(X_train, y_train)\n",
    "#     s=model.score(X_test,y_test)\n",
    "#     y_axis.append(s)\n",
    "#     print int(x), s\n",
    "# y_axis=np.array(y_axis)\n",
    "# fig, ax = plt.subplots()\n",
    "# ax.plot(x_axis, y_axis)\n",
    "# plt.show()"
   ]
  },
  {
   "cell_type": "code",
   "execution_count": 14,
   "metadata": {
    "collapsed": true
   },
   "outputs": [],
   "source": [
    "parcelid=df_t['parcelid']\n",
    "df_t=df_t.drop('parcelid', axis=1)"
   ]
  },
  {
   "cell_type": "code",
   "execution_count": null,
   "metadata": {
    "collapsed": true
   },
   "outputs": [],
   "source": []
  },
  {
   "cell_type": "code",
   "execution_count": 15,
   "metadata": {},
   "outputs": [
    {
     "name": "stdout",
     "output_type": "stream",
     "text": [
      "0\n",
      "1\n",
      "2\n",
      "3\n",
      "4\n",
      "5\n"
     ]
    }
   ],
   "source": [
    "parcelid=pd.DataFrame(parcelid)\n",
    "dates=['2016-10-15', '2016-11-15', '2016-12-15', '2017-10-15', '2017-11-15','2017-12-15']\n",
    "labels=['201610','201611','201612','201710','201711','201712']\n",
    "for i in range(len(dates)):\n",
    "    df_t['transactiondate']=numdays(dates[i])\n",
    "    parcelid[labels[i]]=model.predict(df_t)\n",
    "    print i\n",
    "parcelid.columns=['ParcelId', '201610','201611','201612','201710','201711','201712']"
   ]
  },
  {
   "cell_type": "code",
   "execution_count": 17,
   "metadata": {
    "collapsed": true
   },
   "outputs": [],
   "source": [
    "parcelid.to_csv('submission.csv', index=False)"
   ]
  }
 ],
 "metadata": {
  "kernelspec": {
   "display_name": "Python 2",
   "language": "python",
   "name": "python2"
  },
  "language_info": {
   "codemirror_mode": {
    "name": "ipython",
    "version": 2
   },
   "file_extension": ".py",
   "mimetype": "text/x-python",
   "name": "python",
   "nbconvert_exporter": "python",
   "pygments_lexer": "ipython2",
   "version": "2.7.13"
  }
 },
 "nbformat": 4,
 "nbformat_minor": 2
}
