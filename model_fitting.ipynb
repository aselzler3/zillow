{
 "cells": [
  {
   "cell_type": "code",
   "execution_count": 37,
   "metadata": {
    "collapsed": true
   },
   "outputs": [],
   "source": [
    "from __future__ import division \n",
    "import pandas as pd\n",
    "import numpy as np\n",
    "from sklearn.model_selection import train_test_split\n",
    "from sklearn.ensemble import GradientBoostingRegressor\n",
    "import matplotlib.pyplot as plt"
   ]
  },
  {
   "cell_type": "code",
   "execution_count": 2,
   "metadata": {
    "collapsed": true
   },
   "outputs": [],
   "source": [
    "df=pd.read_csv('training_data.csv')\n",
    "df=df.drop('Unnamed: 0', axis=1)\n",
    "df=df.drop('parcelid', axis=1)\n",
    "df=df.drop('propertycountylandusecode', axis=1)\n",
    "df=df.drop('propertyzoningdesc', axis=1)"
   ]
  },
  {
   "cell_type": "code",
   "execution_count": 3,
   "metadata": {
    "collapsed": true
   },
   "outputs": [],
   "source": [
    "for x in df.columns:\n",
    "    if len(df[x].dropna(axis=0))!=len(df[x]):\n",
    "        df[x+'_isnull']=df[x].apply(lambda k: int(k != k))"
   ]
  },
  {
   "cell_type": "code",
   "execution_count": 4,
   "metadata": {
    "collapsed": true
   },
   "outputs": [],
   "source": [
    "df=df.drop('taxdelinquencyflag', axis=1)\n"
   ]
  },
  {
   "cell_type": "code",
   "execution_count": 5,
   "metadata": {
    "collapsed": true
   },
   "outputs": [],
   "source": [
    "df=df.fillna(0)"
   ]
  },
  {
   "cell_type": "code",
   "execution_count": 6,
   "metadata": {
    "collapsed": true
   },
   "outputs": [],
   "source": [
    "df['hashottuborspa']=df['hashottuborspa'].apply(int)\n",
    "df['fireplaceflag']=df['fireplaceflag'].apply(int)"
   ]
  },
  {
   "cell_type": "code",
   "execution_count": 7,
   "metadata": {
    "collapsed": true
   },
   "outputs": [],
   "source": [
    "def numdays(date):\n",
    "    return 365*(int(date[:4])-2016)+30*(int(date[5:7])-1)+int(date[8:])"
   ]
  },
  {
   "cell_type": "code",
   "execution_count": 8,
   "metadata": {
    "collapsed": true
   },
   "outputs": [],
   "source": [
    "df['transactiondate']=df['transactiondate'].apply(numdays)"
   ]
  },
  {
   "cell_type": "code",
   "execution_count": 9,
   "metadata": {
    "collapsed": true
   },
   "outputs": [],
   "source": [
    "Y=df['logerror']\n",
    "X=df.drop('logerror', axis=1)"
   ]
  },
  {
   "cell_type": "code",
   "execution_count": 10,
   "metadata": {
    "collapsed": true
   },
   "outputs": [],
   "source": [
    "X_train, X_test, y_train, y_test = train_test_split(X, Y, test_size=0.2, random_state=42)"
   ]
  },
  {
   "cell_type": "code",
   "execution_count": 11,
   "metadata": {},
   "outputs": [
    {
     "name": "stdout",
     "output_type": "stream",
     "text": [
      "1 0.000355995334193\n",
      "2 0.000680613150244\n",
      "3 0.000981833214047\n",
      "4 0.00125887435743\n",
      "5 0.00151289369276\n",
      "6 0.00185166072908\n",
      "7 0.00214669303304\n",
      "8 0.00242533228718\n",
      "9 0.00257493901221\n",
      "10 0.00276064185828\n",
      "11 0.002925369094\n",
      "12 0.00313862823183\n",
      "13 0.00328707479503\n",
      "14 0.00339903865319\n",
      "15 0.00352530060328\n"
     ]
    },
    {
     "data": {
      "image/png": "[encoded data removed]",
      "text/plain": [
       "<matplotlib.figure.Figure at 0x7fa2fd44a710>"
      ]
     },
     "metadata": {},
     "output_type": "display_data"
    }
   ],
   "source": [
    "x_axis = np.linspace(1,15,15)\n",
    "y_axis=[]\n",
    "for x in x_axis:\n",
    "    model=GradientBoostingRegressor(learning_rate=0.004, n_estimators=int(10*x), \n",
    "                                    max_depth=3)\n",
    "    model.fit(X_train, y_train)\n",
    "    s=model.score(X_test,y_test)\n",
    "    y_axis.append(s)\n",
    "    print int(x), s\n",
    "y_axis=np.array(y_axis)\n",
    "fig, ax = plt.subplots()\n",
    "ax.plot(x_axis, y_axis)\n",
    "plt.show()"
   ]
  },
  {
   "cell_type": "code",
   "execution_count": 39,
   "metadata": {},
   "outputs": [
    {
     "name": "stdout",
     "output_type": "stream",
     "text": [
      "      Iter       Train Loss      OOB Improve   Remaining Time \n",
      "         1           0.0260           0.0000           15.73m\n",
      "         2           0.0264           0.0000           14.82m\n",
      "         3           0.0256           0.0000           14.64m\n",
      "         4           0.0231           0.0000           14.45m\n",
      "         5           0.0250           0.0000           14.65m\n",
      "         6           0.0252           0.0000           14.63m\n",
      "         7           0.0263           0.0000           15.03m\n",
      "         8           0.0257          -0.0000           15.32m\n",
      "         9           0.0256           0.0000           15.36m\n",
      "        10           0.0259           0.0000           15.52m\n",
      "        20           0.0264           0.0000           15.77m\n",
      "        30           0.0258           0.0000           15.99m\n",
      "        40           0.0263           0.0000           15.95m\n",
      "        50           0.0255           0.0000           15.78m\n",
      "        60           0.0279           0.0000           15.88m\n",
      "        70           0.0240           0.0000           15.91m\n",
      "        80           0.0235           0.0000           15.88m\n",
      "        90           0.0250           0.0000           15.82m\n",
      "       100           0.0246           0.0000           15.84m\n",
      "       200           0.0240          -0.0000           15.75m\n",
      "       300           0.0254           0.0000           15.64m\n",
      "       400           0.0261           0.0000           15.60m\n",
      "       500           0.0258           0.0000           15.51m\n",
      "       600           0.0239           0.0000           15.46m\n",
      "       700           0.0238           0.0000           15.37m\n",
      "       800           0.0269          -0.0000           15.28m\n",
      "       900           0.0254           0.0000           15.19m\n",
      "      1000           0.0246          -0.0000           15.12m\n",
      "      2000           0.0266           0.0000           14.24m\n",
      "      3000           0.0252           0.0000           13.42m\n",
      "      4000           0.0273          -0.0000           12.59m\n",
      "      5000           0.0269          -0.0000           11.81m\n",
      "      6000           0.0246          -0.0000           11.00m\n",
      "      7000           0.0250          -0.0000           10.21m\n",
      "      8000           0.0245          -0.0000            9.41m\n",
      "      9000           0.0252           0.0000            8.63m\n",
      "     10000           0.0246          -0.0000            7.84m\n",
      "     20000           0.0229          -0.0000            0.00s\n",
      "0.00718683265175\n"
     ]
    },
    {
     "data": {
      "image/png": "[encoded data removed]",
      "text/plain": [
       "<matplotlib.figure.Figure at 0x7fa2fdcd0f10>"
      ]
     },
     "metadata": {},
     "output_type": "display_data"
    }
   ],
   "source": [
    "N=20000\n",
    "L=8/N\n",
    "model=GradientBoostingRegressor(learning_rate=L, n_estimators=N, max_depth=4, subsample=0.5,\n",
    "                                max_features='sqrt', verbose=1)\n",
    "model.fit(X_train, y_train)\n",
    "print model.score(X_test,y_test)\n",
    "\n",
    "test_score = np.zeros(N)\n",
    "\n",
    "for i, y_pred in enumerate(model.staged_predict(X_test)):\n",
    "    test_score[i] = model.loss_(y_test, y_pred)\n",
    "\n",
    "x_axis=np.linspace(1,N,N)\n",
    "y_axis=np.array(test_score)\n",
    "plt.plot(x_axis, y_axis)\n",
    "plt.show()\n"
   ]
  },
  {
   "cell_type": "code",
   "execution_count": 41,
   "metadata": {
    "collapsed": true
   },
   "outputs": [],
   "source": [
    "import pickle\n",
    "from sklearn.externals import joblib"
   ]
  },
  {
   "cell_type": "code",
   "execution_count": 42,
   "metadata": {},
   "outputs": [
    {
     "data": {
      "text/plain": [
       "['fit_model.pkl']"
      ]
     },
     "execution_count": 42,
     "metadata": {},
     "output_type": "execute_result"
    }
   ],
   "source": [
    "joblib.dump(model, 'fit_model.pkl')"
   ]
  }
 ],
 "metadata": {
  "kernelspec": {
   "display_name": "Python 2",
   "language": "python",
   "name": "python2"
  },
  "language_info": {
   "codemirror_mode": {
    "name": "ipython",
    "version": 2
   },
   "file_extension": ".py",
   "mimetype": "text/x-python",
   "name": "python",
   "nbconvert_exporter": "python",
   "pygments_lexer": "ipython2",
   "version": "2.7.13"
  }
 },
 "nbformat": 4,
 "nbformat_minor": 2
}
